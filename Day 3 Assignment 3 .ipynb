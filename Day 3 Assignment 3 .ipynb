{
 "cells": [
  {
   "cell_type": "markdown",
   "metadata": {},
   "source": [
    "# Answer 1"
   ]
  },
  {
   "cell_type": "code",
   "execution_count": 4,
   "metadata": {},
   "outputs": [
    {
     "name": "stdout",
     "output_type": "stream",
     "text": [
      "[ 2  5  8 11 14 17 20 23 26 29 32 35 38 41 44 47]\n"
     ]
    }
   ],
   "source": [
    "import numpy as np\n",
    "x=np.arange(2,50,3)\n",
    "print(x)"
   ]
  },
  {
   "cell_type": "markdown",
   "metadata": {},
   "source": [
    "# Answer 2"
   ]
  },
  {
   "cell_type": "code",
   "execution_count": 8,
   "metadata": {},
   "outputs": [
    {
     "name": "stdout",
     "output_type": "stream",
     "text": [
      "Enter values in list 1: 12\n",
      "Enter values in list 1: 43\n",
      "Enter values in list 1: 56\n",
      "Enter values in list 1: 3\n",
      "Enter values in list 1: 6\n",
      "list 1:  [12, 43, 56, 3, 6]\n",
      "Enter values in list 2: 10\n",
      "Enter values in list 2: 0\n",
      "Enter values in list 2: 8\n",
      "Enter values in list 2: 94\n",
      "Enter values in list 2: 13\n",
      "list 2:  [10, 0, 8, 94, 13]\n",
      "concatenate array:  [12 43 56  3  6 10  0  8 94 13]\n",
      "sorted array: [ 0  3  6  8 10 12 13 43 56 94]\n"
     ]
    }
   ],
   "source": [
    "import numpy as np\n",
    "l1=[]\n",
    "l2=[]\n",
    "for i in range(5):\n",
    "    n1=int(input(\"Enter values in list 1: \"))\n",
    "    l1.append(n1)\n",
    "print(\"list 1: \",l1)\n",
    "for i in range(5):\n",
    "    n2=int(input(\"Enter values in list 2: \"))\n",
    "    l2.append(n2)\n",
    "print(\"list 2: \",l2)\n",
    "a1=np.array(l1)\n",
    "a2=np.array(l2)\n",
    "a=np.concatenate((a1,a2))\n",
    "print(\"concatenate array: \",a)\n",
    "s=np.sort(a)\n",
    "print(\"sorted array:\",s)\n"
   ]
  },
  {
   "cell_type": "markdown",
   "metadata": {},
   "source": []
  },
  {
   "cell_type": "markdown",
   "metadata": {},
   "source": [
    "# Answer 3"
   ]
  },
  {
   "cell_type": "code",
   "execution_count": 9,
   "metadata": {},
   "outputs": [
    {
     "name": "stdout",
     "output_type": "stream",
     "text": [
      "Dimesnions in array:  2\n",
      "Size of an array:  6\n"
     ]
    }
   ],
   "source": [
    "import numpy as np\n",
    "arr=np.array([[4,5,6],[3,6,9]])\n",
    "print(\"Dimesnions in array: \",arr.ndim)\n",
    "print(\"Size of an array: \",arr.size)"
   ]
  },
  {
   "cell_type": "markdown",
   "metadata": {},
   "source": [
    "# Answer 4"
   ]
  },
  {
   "cell_type": "code",
   "execution_count": 13,
   "metadata": {},
   "outputs": [
    {
     "name": "stdout",
     "output_type": "stream",
     "text": [
      "Array Shape:  (5,)\n",
      "Rows:  (1, 5)\n",
      "columns:  (5, 1)\n"
     ]
    }
   ],
   "source": [
    "#newaxis snippet\n",
    "import numpy as np\n",
    "arr=np.arange(5)\n",
    "print(\"Array Shape: \",arr.shape)\n",
    "row=arr[np.newaxis, :]\n",
    "print(\"Rows: \",row.shape)\n",
    "col=arr[:,np.newaxis]\n",
    "print(\"columns: \",col.shape)"
   ]
  },
  {
   "cell_type": "code",
   "execution_count": 15,
   "metadata": {},
   "outputs": [
    {
     "name": "stdout",
     "output_type": "stream",
     "text": [
      "Array Shape:  (5,)\n",
      "Rows:  (1, 5)\n",
      "columns:  (5, 1)\n"
     ]
    }
   ],
   "source": [
    "#expand_dims snippet\n",
    "import numpy as np\n",
    "arr=np.arange(5)\n",
    "print(\"Array Shape: \",arr.shape)\n",
    "row=np.expand_dims(arr,axis=0)\n",
    "print(\"Rows: \",row.shape)\n",
    "col=np.expand_dims(arr,axis=1)\n",
    "print(\"columns: \",col.shape)"
   ]
  },
  {
   "cell_type": "markdown",
   "metadata": {},
   "source": [
    "# Answer 5"
   ]
  },
  {
   "cell_type": "code",
   "execution_count": 21,
   "metadata": {},
   "outputs": [
    {
     "name": "stdout",
     "output_type": "stream",
     "text": [
      "Vertical stack:  [[  4  16  36  64 100]\n",
      " [  9  36  81 144 225]]\n",
      "Horizontal stack:  [  4  16  36  64 100   9  36  81 144 225]\n"
     ]
    }
   ],
   "source": [
    "import numpy as np\n",
    "arr1=np.square([2,4,6,8,10])\n",
    "arr2=np.square([3,6,9,12,15])\n",
    "print(\"Vertical stack: \",np.vstack([arr1,arr2]))\n",
    "print(\"Horizontal stack: \",np.hstack([arr1,arr2]))"
   ]
  },
  {
   "cell_type": "markdown",
   "metadata": {},
   "source": [
    "# Answer 6"
   ]
  },
  {
   "cell_type": "code",
   "execution_count": 24,
   "metadata": {},
   "outputs": [
    {
     "name": "stdout",
     "output_type": "stream",
     "text": [
      "[[ 2  2]\n",
      " [ 4  2]\n",
      " [ 6  1]\n",
      " [ 8  2]\n",
      " [10  1]\n",
      " [16  1]]\n"
     ]
    }
   ],
   "source": [
    "import numpy as np\n",
    "arr1=np.array([2,4,6,8,10,4,8,2,16])\n",
    "uq,ct=np.unique(arr1,return_counts=True)\n",
    "arr=np.asarray((uq,ct)).T\n",
    "print(arr)"
   ]
  },
  {
   "cell_type": "code",
   "execution_count": null,
   "metadata": {},
   "outputs": [],
   "source": []
  }
 ],
 "metadata": {
  "kernelspec": {
   "display_name": "Python 3",
   "language": "python",
   "name": "python3"
  },
  "language_info": {
   "codemirror_mode": {
    "name": "ipython",
    "version": 3
   },
   "file_extension": ".py",
   "mimetype": "text/x-python",
   "name": "python",
   "nbconvert_exporter": "python",
   "pygments_lexer": "ipython3",
   "version": "3.7.6"
  }
 },
 "nbformat": 4,
 "nbformat_minor": 4
}
